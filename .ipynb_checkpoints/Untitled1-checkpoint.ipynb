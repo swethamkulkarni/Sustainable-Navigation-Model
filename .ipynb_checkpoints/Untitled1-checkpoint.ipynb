{
 "cells": [
  {
   "cell_type": "code",
   "execution_count": 2,
   "id": "a2c148b5",
   "metadata": {},
   "outputs": [
    {
     "name": "stdout",
     "output_type": "stream",
     "text": [
      "       Operator  Bus Count\n",
      "0        Arriva         65\n",
      "1      Go-Ahead        540\n",
      "2     Metroline        185\n",
      "3          RATP        263\n",
      "4         RATP          72\n",
      "5    Stagecoach        120\n",
      "6  Transport UK        170\n",
      "7           Uno          3\n"
     ]
    }
   ],
   "source": [
    "import pandas as pd\n",
    "\n",
    "# Load the sustainable buses data from Excel file\n",
    "sustainable_buses_data = pd.read_excel('sustainable_buses_data.xlsx')\n",
    "\n",
    "# Group by the 'Operator' column and count the number of buses for each operator\n",
    "bus_count_by_operator = sustainable_buses_data.groupby('Operator').size().reset_index(name='Bus Count')\n",
    "\n",
    "# Display the result\n",
    "print(bus_count_by_operator)\n"
   ]
  },
  {
   "cell_type": "code",
   "execution_count": 11,
   "id": "eb29a0a0",
   "metadata": {},
   "outputs": [
    {
     "name": "stdout",
     "output_type": "stream",
     "text": [
      "Sustainable Buses Data Columns:\n",
      "Index(['Registration Number', 'Fleet Number', 'Operator', 'Registration date',\n",
      "       'Calender year', 'Unnamed: 5', 'Unnamed: 6', 'Unnamed: 7', 'Unnamed: 8',\n",
      "       'Unnamed: 9', 'Unnamed: 10', 'Unnamed: 11', 'Unnamed: 12',\n",
      "       'Unnamed: 13', 'Unnamed: 14', 'Unnamed: 15', 'Unnamed: 16',\n",
      "       'Unnamed: 17', 'Unnamed: 18', 'Unnamed: 19'],\n",
      "      dtype='object')\n",
      "Metroline Route Data Columns:\n",
      "Index(['Fleet Number', 'Registration Number', 'Type', 'Routes allocated to',\n",
      "       'Garag'],\n",
      "      dtype='object')\n",
      "Data has been successfully merged and saved to 'merged_buses_data.xlsx'.\n"
     ]
    }
   ],
   "source": [
    "import pandas as pd\n",
    "\n",
    "# Load data from Excel files\n",
    "sustainable_buses_df = pd.read_excel('sustainable_buses_data.xlsx')\n",
    "\n",
    "# Load metroline_route data, skipping the first two rows to get the correct header\n",
    "metroline_route_df = pd.read_excel('arriva_routes.xlsx', skiprows=2)\n",
    "\n",
    "# Print column names to check for discrepancies\n",
    "print(\"Sustainable Buses Data Columns:\")\n",
    "print(sustainable_buses_df.columns)\n",
    "\n",
    "print(\"Metroline Route Data Columns:\")\n",
    "print(metroline_route_df.columns)\n",
    "\n",
    "# Rename columns for consistency\n",
    "sustainable_buses_df.rename(columns={\n",
    "    'Registration Number': 'registration number',\n",
    "    'Fleet Number': 'fleet number',\n",
    "    'Operator': 'operator'\n",
    "}, inplace=True)\n",
    "\n",
    "metroline_route_df.rename(columns={\n",
    "    'Registration Number': 'registration number',\n",
    "    'Fleet Number': 'fleet number',\n",
    "    'Routes allocated to': 'routes allocated to'\n",
    "}, inplace=True)\n",
    "\n",
    "# Merge data on registration number and fleet number\n",
    "merged_df = pd.merge(sustainable_buses_df, metroline_route_df, \n",
    "                     on=['registration number', 'fleet number'], \n",
    "                     how='inner')\n",
    "\n",
    "# Select and order the columns for the output file\n",
    "output_df = merged_df[['registration number', 'fleet number', 'operator', 'routes allocated to']]\n",
    "\n",
    "# Write the result to a new Excel file\n",
    "output_df.to_excel('merged_buses_data.xlsx', index=False)\n",
    "\n",
    "print(\"Data has been successfully merged and saved to 'merged_buses_data.xlsx'.\")\n"
   ]
  },
  {
   "cell_type": "code",
   "execution_count": 12,
   "id": "e8938419",
   "metadata": {},
   "outputs": [
    {
     "name": "stdout",
     "output_type": "stream",
     "text": [
      "Sustainable Buses Data Columns:\n",
      "Index(['Registration Number', 'Fleet Number', 'Operator', 'Registration date',\n",
      "       'Calender year', 'Unnamed: 5', 'Unnamed: 6', 'Unnamed: 7', 'Unnamed: 8',\n",
      "       'Unnamed: 9', 'Unnamed: 10', 'Unnamed: 11', 'Unnamed: 12',\n",
      "       'Unnamed: 13', 'Unnamed: 14', 'Unnamed: 15', 'Unnamed: 16',\n",
      "       'Unnamed: 17', 'Unnamed: 18', 'Unnamed: 19'],\n",
      "      dtype='object')\n",
      "Metroline Route Data Columns:\n",
      "Index(['Fleet Number', 'Registration Number', 'Type', 'Routes allocated to',\n",
      "       'Garag'],\n",
      "      dtype='object')\n"
     ]
    },
    {
     "name": "stderr",
     "output_type": "stream",
     "text": [
      "C:\\Users\\smk10\\AppData\\Local\\Temp\\ipykernel_30008\\2169849924.py:40: FutureWarning: Dropping invalid columns in SeriesGroupBy.agg is deprecated. In a future version, a TypeError will be raised. Before calling .agg, select only columns which should be valid for the function.\n",
      "  .agg({'routes allocated to': ', '.join}).reset_index()\n"
     ]
    },
    {
     "ename": "TypeError",
     "evalue": "sequence item 0: expected str instance, float found",
     "output_type": "error",
     "traceback": [
      "\u001b[1;31m---------------------------------------------------------------------------\u001b[0m",
      "\u001b[1;31mTypeError\u001b[0m                                 Traceback (most recent call last)",
      "Cell \u001b[1;32mIn[12], line 40\u001b[0m\n\u001b[0;32m     35\u001b[0m output_df \u001b[38;5;241m=\u001b[39m merged_df[[\u001b[38;5;124m'\u001b[39m\u001b[38;5;124mregistration number\u001b[39m\u001b[38;5;124m'\u001b[39m, \u001b[38;5;124m'\u001b[39m\u001b[38;5;124mfleet number\u001b[39m\u001b[38;5;124m'\u001b[39m, \u001b[38;5;124m'\u001b[39m\u001b[38;5;124moperator\u001b[39m\u001b[38;5;124m'\u001b[39m, \u001b[38;5;124m'\u001b[39m\u001b[38;5;124mroutes allocated to\u001b[39m\u001b[38;5;124m'\u001b[39m]]\n\u001b[0;32m     37\u001b[0m \u001b[38;5;66;03m# Handle cases where multiple registration numbers and fleet numbers map to one route\u001b[39;00m\n\u001b[0;32m     38\u001b[0m \u001b[38;5;66;03m# Group by 'registration number' and 'fleet number' and aggregate routes\u001b[39;00m\n\u001b[0;32m     39\u001b[0m aggregated_df \u001b[38;5;241m=\u001b[39m output_df\u001b[38;5;241m.\u001b[39mgroupby([\u001b[38;5;124m'\u001b[39m\u001b[38;5;124mregistration number\u001b[39m\u001b[38;5;124m'\u001b[39m, \u001b[38;5;124m'\u001b[39m\u001b[38;5;124mfleet number\u001b[39m\u001b[38;5;124m'\u001b[39m, \u001b[38;5;124m'\u001b[39m\u001b[38;5;124moperator\u001b[39m\u001b[38;5;124m'\u001b[39m]) \\\n\u001b[1;32m---> 40\u001b[0m                         \u001b[38;5;241m.\u001b[39magg({\u001b[38;5;124m'\u001b[39m\u001b[38;5;124mroutes allocated to\u001b[39m\u001b[38;5;124m'\u001b[39m: \u001b[38;5;124m'\u001b[39m\u001b[38;5;124m, \u001b[39m\u001b[38;5;124m'\u001b[39m\u001b[38;5;241m.\u001b[39mjoin})\u001b[38;5;241m.\u001b[39mreset_index()\n\u001b[0;32m     42\u001b[0m \u001b[38;5;66;03m# Write the result to a new Excel file\u001b[39;00m\n\u001b[0;32m     43\u001b[0m aggregated_df\u001b[38;5;241m.\u001b[39mto_excel(\u001b[38;5;124m'\u001b[39m\u001b[38;5;124mmerged_buses_data.xlsx\u001b[39m\u001b[38;5;124m'\u001b[39m, index\u001b[38;5;241m=\u001b[39m\u001b[38;5;28;01mFalse\u001b[39;00m)\n",
      "File \u001b[1;32m~\\anaconda3\\Lib\\site-packages\\pandas\\core\\groupby\\generic.py:895\u001b[0m, in \u001b[0;36mDataFrameGroupBy.aggregate\u001b[1;34m(self, func, engine, engine_kwargs, *args, **kwargs)\u001b[0m\n\u001b[0;32m    892\u001b[0m func \u001b[38;5;241m=\u001b[39m maybe_mangle_lambdas(func)\n\u001b[0;32m    894\u001b[0m op \u001b[38;5;241m=\u001b[39m GroupByApply(\u001b[38;5;28mself\u001b[39m, func, args, kwargs)\n\u001b[1;32m--> 895\u001b[0m result \u001b[38;5;241m=\u001b[39m op\u001b[38;5;241m.\u001b[39magg()\n\u001b[0;32m    896\u001b[0m \u001b[38;5;28;01mif\u001b[39;00m \u001b[38;5;129;01mnot\u001b[39;00m is_dict_like(func) \u001b[38;5;129;01mand\u001b[39;00m result \u001b[38;5;129;01mis\u001b[39;00m \u001b[38;5;129;01mnot\u001b[39;00m \u001b[38;5;28;01mNone\u001b[39;00m:\n\u001b[0;32m    897\u001b[0m     \u001b[38;5;28;01mreturn\u001b[39;00m result\n",
      "File \u001b[1;32m~\\anaconda3\\Lib\\site-packages\\pandas\\core\\apply.py:172\u001b[0m, in \u001b[0;36mApply.agg\u001b[1;34m(self)\u001b[0m\n\u001b[0;32m    169\u001b[0m     \u001b[38;5;28;01mreturn\u001b[39;00m \u001b[38;5;28mself\u001b[39m\u001b[38;5;241m.\u001b[39mapply_str()\n\u001b[0;32m    171\u001b[0m \u001b[38;5;28;01mif\u001b[39;00m is_dict_like(arg):\n\u001b[1;32m--> 172\u001b[0m     \u001b[38;5;28;01mreturn\u001b[39;00m \u001b[38;5;28mself\u001b[39m\u001b[38;5;241m.\u001b[39magg_dict_like()\n\u001b[0;32m    173\u001b[0m \u001b[38;5;28;01melif\u001b[39;00m is_list_like(arg):\n\u001b[0;32m    174\u001b[0m     \u001b[38;5;66;03m# we require a list, but not a 'str'\u001b[39;00m\n\u001b[0;32m    175\u001b[0m     \u001b[38;5;28;01mreturn\u001b[39;00m \u001b[38;5;28mself\u001b[39m\u001b[38;5;241m.\u001b[39magg_list_like()\n",
      "File \u001b[1;32m~\\anaconda3\\Lib\\site-packages\\pandas\\core\\apply.py:504\u001b[0m, in \u001b[0;36mApply.agg_dict_like\u001b[1;34m(self)\u001b[0m\n\u001b[0;32m    501\u001b[0m     results \u001b[38;5;241m=\u001b[39m {key: colg\u001b[38;5;241m.\u001b[39magg(how) \u001b[38;5;28;01mfor\u001b[39;00m key, how \u001b[38;5;129;01min\u001b[39;00m arg\u001b[38;5;241m.\u001b[39mitems()}\n\u001b[0;32m    502\u001b[0m \u001b[38;5;28;01melse\u001b[39;00m:\n\u001b[0;32m    503\u001b[0m     \u001b[38;5;66;03m# key used for column selection and output\u001b[39;00m\n\u001b[1;32m--> 504\u001b[0m     results \u001b[38;5;241m=\u001b[39m {\n\u001b[0;32m    505\u001b[0m         key: obj\u001b[38;5;241m.\u001b[39m_gotitem(key, ndim\u001b[38;5;241m=\u001b[39m\u001b[38;5;241m1\u001b[39m)\u001b[38;5;241m.\u001b[39magg(how) \u001b[38;5;28;01mfor\u001b[39;00m key, how \u001b[38;5;129;01min\u001b[39;00m arg\u001b[38;5;241m.\u001b[39mitems()\n\u001b[0;32m    506\u001b[0m     }\n\u001b[0;32m    508\u001b[0m \u001b[38;5;66;03m# set the final keys\u001b[39;00m\n\u001b[0;32m    509\u001b[0m keys \u001b[38;5;241m=\u001b[39m \u001b[38;5;28mlist\u001b[39m(arg\u001b[38;5;241m.\u001b[39mkeys())\n",
      "File \u001b[1;32m~\\anaconda3\\Lib\\site-packages\\pandas\\core\\apply.py:505\u001b[0m, in \u001b[0;36m<dictcomp>\u001b[1;34m(.0)\u001b[0m\n\u001b[0;32m    501\u001b[0m     results \u001b[38;5;241m=\u001b[39m {key: colg\u001b[38;5;241m.\u001b[39magg(how) \u001b[38;5;28;01mfor\u001b[39;00m key, how \u001b[38;5;129;01min\u001b[39;00m arg\u001b[38;5;241m.\u001b[39mitems()}\n\u001b[0;32m    502\u001b[0m \u001b[38;5;28;01melse\u001b[39;00m:\n\u001b[0;32m    503\u001b[0m     \u001b[38;5;66;03m# key used for column selection and output\u001b[39;00m\n\u001b[0;32m    504\u001b[0m     results \u001b[38;5;241m=\u001b[39m {\n\u001b[1;32m--> 505\u001b[0m         key: obj\u001b[38;5;241m.\u001b[39m_gotitem(key, ndim\u001b[38;5;241m=\u001b[39m\u001b[38;5;241m1\u001b[39m)\u001b[38;5;241m.\u001b[39magg(how) \u001b[38;5;28;01mfor\u001b[39;00m key, how \u001b[38;5;129;01min\u001b[39;00m arg\u001b[38;5;241m.\u001b[39mitems()\n\u001b[0;32m    506\u001b[0m     }\n\u001b[0;32m    508\u001b[0m \u001b[38;5;66;03m# set the final keys\u001b[39;00m\n\u001b[0;32m    509\u001b[0m keys \u001b[38;5;241m=\u001b[39m \u001b[38;5;28mlist\u001b[39m(arg\u001b[38;5;241m.\u001b[39mkeys())\n",
      "File \u001b[1;32m~\\anaconda3\\Lib\\site-packages\\pandas\\core\\groupby\\generic.py:294\u001b[0m, in \u001b[0;36mSeriesGroupBy.aggregate\u001b[1;34m(self, func, engine, engine_kwargs, *args, **kwargs)\u001b[0m\n\u001b[0;32m    291\u001b[0m     \u001b[38;5;28;01mreturn\u001b[39;00m \u001b[38;5;28mgetattr\u001b[39m(\u001b[38;5;28mself\u001b[39m, cyfunc)()\n\u001b[0;32m    293\u001b[0m \u001b[38;5;28;01mif\u001b[39;00m \u001b[38;5;28mself\u001b[39m\u001b[38;5;241m.\u001b[39mgrouper\u001b[38;5;241m.\u001b[39mnkeys \u001b[38;5;241m>\u001b[39m \u001b[38;5;241m1\u001b[39m:\n\u001b[1;32m--> 294\u001b[0m     \u001b[38;5;28;01mreturn\u001b[39;00m \u001b[38;5;28mself\u001b[39m\u001b[38;5;241m.\u001b[39m_python_agg_general(func, \u001b[38;5;241m*\u001b[39margs, \u001b[38;5;241m*\u001b[39m\u001b[38;5;241m*\u001b[39mkwargs)\n\u001b[0;32m    296\u001b[0m \u001b[38;5;28;01mtry\u001b[39;00m:\n\u001b[0;32m    297\u001b[0m     \u001b[38;5;28;01mreturn\u001b[39;00m \u001b[38;5;28mself\u001b[39m\u001b[38;5;241m.\u001b[39m_python_agg_general(func, \u001b[38;5;241m*\u001b[39margs, \u001b[38;5;241m*\u001b[39m\u001b[38;5;241m*\u001b[39mkwargs)\n",
      "File \u001b[1;32m~\\anaconda3\\Lib\\site-packages\\pandas\\core\\groupby\\groupby.py:1695\u001b[0m, in \u001b[0;36mGroupBy._python_agg_general\u001b[1;34m(self, func, raise_on_typeerror, *args, **kwargs)\u001b[0m\n\u001b[0;32m   1692\u001b[0m     output[key] \u001b[38;5;241m=\u001b[39m result\n\u001b[0;32m   1694\u001b[0m \u001b[38;5;28;01mif\u001b[39;00m \u001b[38;5;129;01mnot\u001b[39;00m output:\n\u001b[1;32m-> 1695\u001b[0m     \u001b[38;5;28;01mreturn\u001b[39;00m \u001b[38;5;28mself\u001b[39m\u001b[38;5;241m.\u001b[39m_python_apply_general(f, \u001b[38;5;28mself\u001b[39m\u001b[38;5;241m.\u001b[39m_selected_obj)\n\u001b[0;32m   1697\u001b[0m \u001b[38;5;28;01mreturn\u001b[39;00m \u001b[38;5;28mself\u001b[39m\u001b[38;5;241m.\u001b[39m_wrap_aggregated_output(output)\n",
      "File \u001b[1;32m~\\anaconda3\\Lib\\site-packages\\pandas\\core\\groupby\\groupby.py:1629\u001b[0m, in \u001b[0;36mGroupBy._python_apply_general\u001b[1;34m(self, f, data, not_indexed_same, is_transform, is_agg)\u001b[0m\n\u001b[0;32m   1592\u001b[0m \u001b[38;5;129m@final\u001b[39m\n\u001b[0;32m   1593\u001b[0m \u001b[38;5;28;01mdef\u001b[39;00m \u001b[38;5;21m_python_apply_general\u001b[39m(\n\u001b[0;32m   1594\u001b[0m     \u001b[38;5;28mself\u001b[39m,\n\u001b[1;32m   (...)\u001b[0m\n\u001b[0;32m   1599\u001b[0m     is_agg: \u001b[38;5;28mbool\u001b[39m \u001b[38;5;241m=\u001b[39m \u001b[38;5;28;01mFalse\u001b[39;00m,\n\u001b[0;32m   1600\u001b[0m ) \u001b[38;5;241m-\u001b[39m\u001b[38;5;241m>\u001b[39m NDFrameT:\n\u001b[0;32m   1601\u001b[0m \u001b[38;5;250m    \u001b[39m\u001b[38;5;124;03m\"\"\"\u001b[39;00m\n\u001b[0;32m   1602\u001b[0m \u001b[38;5;124;03m    Apply function f in python space\u001b[39;00m\n\u001b[0;32m   1603\u001b[0m \n\u001b[1;32m   (...)\u001b[0m\n\u001b[0;32m   1627\u001b[0m \u001b[38;5;124;03m        data after applying f\u001b[39;00m\n\u001b[0;32m   1628\u001b[0m \u001b[38;5;124;03m    \"\"\"\u001b[39;00m\n\u001b[1;32m-> 1629\u001b[0m     values, mutated \u001b[38;5;241m=\u001b[39m \u001b[38;5;28mself\u001b[39m\u001b[38;5;241m.\u001b[39mgrouper\u001b[38;5;241m.\u001b[39mapply(f, data, \u001b[38;5;28mself\u001b[39m\u001b[38;5;241m.\u001b[39maxis)\n\u001b[0;32m   1630\u001b[0m     \u001b[38;5;28;01mif\u001b[39;00m not_indexed_same \u001b[38;5;129;01mis\u001b[39;00m \u001b[38;5;28;01mNone\u001b[39;00m:\n\u001b[0;32m   1631\u001b[0m         not_indexed_same \u001b[38;5;241m=\u001b[39m mutated \u001b[38;5;129;01mor\u001b[39;00m \u001b[38;5;28mself\u001b[39m\u001b[38;5;241m.\u001b[39mmutated\n",
      "File \u001b[1;32m~\\anaconda3\\Lib\\site-packages\\pandas\\core\\groupby\\ops.py:839\u001b[0m, in \u001b[0;36mBaseGrouper.apply\u001b[1;34m(self, f, data, axis)\u001b[0m\n\u001b[0;32m    837\u001b[0m \u001b[38;5;66;03m# group might be modified\u001b[39;00m\n\u001b[0;32m    838\u001b[0m group_axes \u001b[38;5;241m=\u001b[39m group\u001b[38;5;241m.\u001b[39maxes\n\u001b[1;32m--> 839\u001b[0m res \u001b[38;5;241m=\u001b[39m f(group)\n\u001b[0;32m    840\u001b[0m \u001b[38;5;28;01mif\u001b[39;00m \u001b[38;5;129;01mnot\u001b[39;00m mutated \u001b[38;5;129;01mand\u001b[39;00m \u001b[38;5;129;01mnot\u001b[39;00m _is_indexed_like(res, group_axes, axis):\n\u001b[0;32m    841\u001b[0m     mutated \u001b[38;5;241m=\u001b[39m \u001b[38;5;28;01mTrue\u001b[39;00m\n",
      "File \u001b[1;32m~\\anaconda3\\Lib\\site-packages\\pandas\\core\\groupby\\groupby.py:1668\u001b[0m, in \u001b[0;36mGroupBy._python_agg_general.<locals>.<lambda>\u001b[1;34m(x)\u001b[0m\n\u001b[0;32m   1665\u001b[0m \u001b[38;5;129m@final\u001b[39m\n\u001b[0;32m   1666\u001b[0m \u001b[38;5;28;01mdef\u001b[39;00m \u001b[38;5;21m_python_agg_general\u001b[39m(\u001b[38;5;28mself\u001b[39m, func, \u001b[38;5;241m*\u001b[39margs, raise_on_typeerror\u001b[38;5;241m=\u001b[39m\u001b[38;5;28;01mFalse\u001b[39;00m, \u001b[38;5;241m*\u001b[39m\u001b[38;5;241m*\u001b[39mkwargs):\n\u001b[0;32m   1667\u001b[0m     func \u001b[38;5;241m=\u001b[39m com\u001b[38;5;241m.\u001b[39mis_builtin_func(func)\n\u001b[1;32m-> 1668\u001b[0m     f \u001b[38;5;241m=\u001b[39m \u001b[38;5;28;01mlambda\u001b[39;00m x: func(x, \u001b[38;5;241m*\u001b[39margs, \u001b[38;5;241m*\u001b[39m\u001b[38;5;241m*\u001b[39mkwargs)\n\u001b[0;32m   1670\u001b[0m     \u001b[38;5;66;03m# iterate through \"columns\" ex exclusions to populate output dict\u001b[39;00m\n\u001b[0;32m   1671\u001b[0m     output: \u001b[38;5;28mdict\u001b[39m[base\u001b[38;5;241m.\u001b[39mOutputKey, ArrayLike] \u001b[38;5;241m=\u001b[39m {}\n",
      "\u001b[1;31mTypeError\u001b[0m: sequence item 0: expected str instance, float found"
     ]
    }
   ],
   "source": [
    "import pandas as pd\n",
    "\n",
    "# Load data from Excel files\n",
    "sustainable_buses_df = pd.read_excel('sustainable_buses_data.xlsx')\n",
    "\n",
    "# Load metroline_route data, skipping the first two rows to get the correct header\n",
    "metroline_route_df = pd.read_excel('metroline_route.xlsx', skiprows=2)\n",
    "\n",
    "# Print column names to check for discrepancies\n",
    "print(\"Sustainable Buses Data Columns:\")\n",
    "print(sustainable_buses_df.columns)\n",
    "\n",
    "print(\"Metroline Route Data Columns:\")\n",
    "print(metroline_route_df.columns)\n",
    "\n",
    "# Rename columns for consistency\n",
    "sustainable_buses_df.rename(columns={\n",
    "    'Registration Number': 'registration number',\n",
    "    'Fleet Number': 'fleet number',\n",
    "    'Operator': 'operator'\n",
    "}, inplace=True)\n",
    "\n",
    "metroline_route_df.rename(columns={\n",
    "    'Registration Number': 'registration number',\n",
    "    'Fleet Number': 'fleet number',\n",
    "    'Routes allocated to': 'routes allocated to'\n",
    "}, inplace=True)\n",
    "\n",
    "# Merge data on registration number and fleet number\n",
    "merged_df = pd.merge(sustainable_buses_df, metroline_route_df, \n",
    "                     on=['registration number', 'fleet number'], \n",
    "                     how='inner')\n",
    "\n",
    "# Ensure each entry is included by retaining all combinations\n",
    "output_df = merged_df[['registration number', 'fleet number', 'operator', 'routes allocated to']]\n",
    "\n",
    "# Handle cases where multiple registration numbers and fleet numbers map to one route\n",
    "# Group by 'registration number' and 'fleet number' and aggregate routes\n",
    "aggregated_df = output_df.groupby(['registration number', 'fleet number', 'operator']) \\\n",
    "                        .agg({'routes allocated to': ', '.join}).reset_index()\n",
    "\n",
    "# Write the result to a new Excel file\n",
    "aggregated_df.to_excel('merged_buses_data.xlsx', index=False)\n",
    "\n",
    "print(\"Data has been successfully merged and saved to 'merged_buses_data.xlsx'.\")\n"
   ]
  },
  {
   "cell_type": "code",
   "execution_count": null,
   "id": "0fcdac24",
   "metadata": {},
   "outputs": [],
   "source": []
  }
 ],
 "metadata": {
  "kernelspec": {
   "display_name": "Python 3 (ipykernel)",
   "language": "python",
   "name": "python3"
  },
  "language_info": {
   "codemirror_mode": {
    "name": "ipython",
    "version": 3
   },
   "file_extension": ".py",
   "mimetype": "text/x-python",
   "name": "python",
   "nbconvert_exporter": "python",
   "pygments_lexer": "ipython3",
   "version": "3.11.4"
  }
 },
 "nbformat": 4,
 "nbformat_minor": 5
}
