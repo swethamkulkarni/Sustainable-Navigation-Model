{
 "cells": [
  {
   "cell_type": "code",
   "execution_count": 13,
   "id": "eb650f72",
   "metadata": {},
   "outputs": [
    {
     "name": "stdout",
     "output_type": "stream",
     "text": [
      "Error saving to Excel: [Errno 13] Permission denied: 'extracted_routesinfo1.xlsx'\n"
     ]
    }
   ],
   "source": [
    "import json\n",
    "import json\n",
    "import pandas as pd\n",
    "\n",
    "# Function to read the JSON file\n",
    "def read_json_file(filename):\n",
    "    try:\n",
    "        with open(filename, 'r', encoding='utf-8') as file:\n",
    "            data = json.load(file)\n",
    "        return data\n",
    "    except Exception as e:\n",
    "        print(f\"Error reading JSON file: {e}\")\n",
    "        return None\n",
    "\n",
    "# Function to extract only bus route data from the JSON\n",
    "def extract_bus_route_data(data):\n",
    "    extracted_data = []\n",
    "    \n",
    "    for line in data:\n",
    "        line_name = line.get('name', 'N/A')\n",
    "        line_mode = line.get('modeName', 'N/A')\n",
    "        \n",
    "        # Filter only for 'bus' mode\n",
    "        if line_mode.lower() == 'bus':\n",
    "            # Iterate over routeSections to extract bus routes\n",
    "            for route in line.get('routeSections', []):\n",
    "                origination_name = route.get('originationName', 'N/A')\n",
    "                destination_name = route.get('destinationName', 'N/A')\n",
    "                originator = route.get('originator', 'N/A')\n",
    "                destination = route.get('destination', 'N/A')\n",
    "                valid_from = route.get('validFrom', 'N/A')\n",
    "                valid_to = route.get('validTo', 'N/A')\n",
    "\n",
    "                # Append the bus data as a dictionary to the extracted_data list\n",
    "                extracted_data.append({\n",
    "                    'Line Name': line_name,\n",
    "                    'Mode': line_mode,\n",
    "                    'Origination': origination_name,\n",
    "                    'Destination': destination_name,\n",
    "                    'Originator': originator,\n",
    "                    'Destination Code': destination,\n",
    "                    'Valid From': valid_from,\n",
    "                    'Valid To': valid_to\n",
    "                })\n",
    "    \n",
    "    \n",
    "\n",
    "\n",
    "# Function to save data to Excel\n",
    "def save_to_excel(data, filename):\n",
    "    try:\n",
    "        df = pd.DataFrame(data)\n",
    "        df.to_excel(filename, index=False)\n",
    "        print(f\"Data successfully saved to {filename}\")\n",
    "    except Exception as e:\n",
    "        print(f\"Error saving to Excel: {e}\")\n",
    "\n",
    "# Main function to execute the process\n",
    "def main():\n",
    "    input_file = 'C:\\\\Users\\\\smk10\\\\Desktop\\\\dissertation\\\\data\\\\routeinfo'  # Path to your JSON file\n",
    "    output_file = 'extracted_routesinfo2.xlsx'  # Path for the output Excel file\n",
    "\n",
    "    # Step 1: Read the JSON file\n",
    "    response_data = read_json_file(input_file)\n",
    "\n",
    "    if response_data:\n",
    "        # Step 2: Extract the required route data\n",
    "        route_data = extract_route_data(response_data)\n",
    "\n",
    "        # Step 3: Save the extracted data to an Excel file\n",
    "        save_to_excel(route_data, output_file)\n",
    "\n",
    "if __name__ == \"__main__\":\n",
    "    main()\n"
   ]
  },
  {
   "cell_type": "code",
   "execution_count": null,
   "id": "7bab6003",
   "metadata": {},
   "outputs": [],
   "source": []
  }
 ],
 "metadata": {
  "kernelspec": {
   "display_name": "Python 3 (ipykernel)",
   "language": "python",
   "name": "python3"
  },
  "language_info": {
   "codemirror_mode": {
    "name": "ipython",
    "version": 3
   },
   "file_extension": ".py",
   "mimetype": "text/x-python",
   "name": "python",
   "nbconvert_exporter": "python",
   "pygments_lexer": "ipython3",
   "version": "3.11.4"
  }
 },
 "nbformat": 4,
 "nbformat_minor": 5
}
